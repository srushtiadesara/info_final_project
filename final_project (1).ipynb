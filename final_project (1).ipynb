{
 "cells": [
  {
   "cell_type": "markdown",
   "id": "485c4462-5cf7-4524-8f57-874e8eb6209d",
   "metadata": {},
   "source": [
    "# Final Project: Positive Path\n"
   ]
  },
  {
   "cell_type": "markdown",
   "id": "5a40ec57-85d7-4186-90da-e21b28b79edd",
   "metadata": {},
   "source": [
    "Our project is a positive sentiment analyzer which lets users know if their post content is \n",
    "positive and if the user should make changes to make it more positive. We hope to promote motivational and nice content in posts. This project was created by Srushti, Hafsah, and Ariel in Info 103 (Spring 2024 quarter)."
   ]
  },
  {
   "cell_type": "code",
   "execution_count": 15,
   "id": "0d45a981-86cd-41f0-bc0a-066afdc985b4",
   "metadata": {
    "tags": []
   },
   "outputs": [],
   "source": [
    "# Reddit PRAW Setup\n",
    "import praw"
   ]
  },
  {
   "cell_type": "markdown",
   "id": "8cdfc113-a6b0-4c6f-a1f1-06a47bb83925",
   "metadata": {},
   "source": [
    "(optional) make a fake praw connection with the fake_praw library\n"
   ]
  },
  {
   "cell_type": "code",
   "execution_count": 16,
   "id": "f5c5eac2-09d3-4244-b4d4-63942fda66ef",
   "metadata": {},
   "outputs": [
    {
     "data": {
      "text/html": [
       "<strong style='color:darkred'>Fake praw is replacing the praw library. Fake praw doesn&#x27;t need real passwords, and prevents you from accessing real reddit</strong>"
      ],
      "text/plain": [
       "<IPython.core.display.HTML object>"
      ]
     },
     "metadata": {},
     "output_type": "display_data"
    }
   ],
   "source": [
    "%run fake_apis/fake_praw.ipynb"
   ]
  },
  {
   "cell_type": "code",
   "execution_count": 17,
   "id": "72567e4d-e517-43f1-a949-49fb29120ddf",
   "metadata": {},
   "outputs": [],
   "source": [
    "%run reddit_keys.py"
   ]
  },
  {
   "cell_type": "code",
   "execution_count": 18,
   "id": "94c2d5da-d971-454a-aebf-3ed64e286b01",
   "metadata": {},
   "outputs": [
    {
     "data": {
      "text/html": [
       "<strong style='color:darkred'>Fake praw is pretending to collect account info to use on reddit</strong>"
      ],
      "text/plain": [
       "<IPython.core.display.HTML object>"
      ]
     },
     "metadata": {},
     "output_type": "display_data"
    }
   ],
   "source": [
    "# Give the praw code your reddit account info so\n",
    "# it can perform reddit actions\n",
    "reddit = praw.Reddit(\n",
    "    username=username, password=password,\n",
    "    client_id=client_id, client_secret=client_secret,\n",
    "    user_agent=\"a custom python script\"\n",
    ")"
   ]
  },
  {
   "cell_type": "markdown",
   "id": "a72f67fc-09df-446f-8956-b1f28fd3d0bd",
   "metadata": {},
   "source": [
    "## Positive Sentiment Analysis\n",
    "### load sentiment analysis library and make analyzer"
   ]
  },
  {
   "cell_type": "code",
   "execution_count": 19,
   "id": "a476b639-df99-4737-83f8-a37fb3654b50",
   "metadata": {
    "tags": []
   },
   "outputs": [
    {
     "name": "stderr",
     "output_type": "stream",
     "text": [
      "[nltk_data] Downloading package vader_lexicon to\n",
      "[nltk_data]     /home/jovyan/nltk_data...\n",
      "[nltk_data]   Package vader_lexicon is already up-to-date!\n"
     ]
    }
   ],
   "source": [
    "import nltk\n",
    "nltk.download([\"vader_lexicon\"])\n",
    "from nltk.sentiment import SentimentIntensityAnalyzer\n",
    "sia = SentimentIntensityAnalyzer()"
   ]
  },
  {
   "cell_type": "markdown",
   "id": "549b8cd4-61a6-42b3-ad32-7dff878ddc9c",
   "metadata": {},
   "source": [
    "### loop through submissions, finding average positive sentiment\n",
    "\n",
    "Go through posts to see "
   ]
  },
  {
   "cell_type": "code",
   "execution_count": 22,
   "id": "ec912f23-54af-44ce-86b7-3f445bad5fdf",
   "metadata": {},
   "outputs": [
    {
     "data": {
      "text/html": [
       "<strong style='color:darkred'>Fake praw is pretending to select the subreddit: cuteanimals</strong>"
      ],
      "text/plain": [
       "<IPython.core.display.HTML object>"
      ]
     },
     "metadata": {},
     "output_type": "display_data"
    },
    {
     "name": "stdout",
     "output_type": "stream",
     "text": [
      "Your positivity score is 0.5093\n",
      "The post 'Look at my cute dog!' is positive.\n",
      "Your positivity score is 0.0\n",
      "The post 'A baby lizard!' is not necessarily positive. Please reword it by making sure you are mindful of your syntax and message.\n",
      "Your positivity score is 0.6239\n",
      "The post 'The cutest bird ever!' is positive.\n"
     ]
    }
   ],
   "source": [
    "from time import sleep\n",
    "num_submissions = 0\n",
    "total_sentiment = 0\n",
    "\n",
    "# Look up the subreddit \"cuteanimals\", then find the \"hot\" list, getting up to 30 submissions\n",
    "submissions = reddit.subreddit(\"cuteanimals\").hot(limit=30)\n",
    "\n",
    "# Turn the submission results into a Python List\n",
    "submissions_list = list(submissions)\n",
    "\n",
    "for submission in submissions_list:\n",
    "    #calculate sentiment using the polarity scores\n",
    "    num_submissions += 1\n",
    "    submission_sentiment = sia.polarity_scores(submission.title)['compound']\n",
    "    total_sentiment += submission_sentiment\n",
    "\n",
    "    # inform the user about their score and changes they can make\n",
    "    \n",
    "    print(\"Your positivity score is \" + str(submission_sentiment));\n",
    "    sleep(2)\n",
    "    if submission_sentiment > 0:\n",
    "            print(f\"The post '{submission.title}' is positive.\")\n",
    "    else:\n",
    "            print(f\"The post '{submission.title}' is not necessarily positive. Please reword it by making sure you are mindful of your syntax and message.\")"
   ]
  },
  {
   "cell_type": "markdown",
   "id": "7ddf04ab-aa71-4a38-abda-27ed5450db07",
   "metadata": {},
   "source": [
    "# Ethical Questions:\n",
    "\n",
    "How can we determine positive vs negative emotion when assessing words?\n",
    "Ethics of Care: This framework focuses on the idea that we should balance the needs that we have and those of others. For this reason, this framework is relevant here because when we are assessing words, we should think about how they make us or those who will hear the words feel before we choose them. \n",
    "Utilitarianism: This framework says that the greatest good is the best choice. When considering social media and its wide impact it has, it's important to consider how people exposed to this content will feel. The best choice will be the content that promotes the most positive emotion. \n",
    "\n",
    "\n",
    "Is it always necessary to post only positive content or could this be argued as unethical? \n",
    "Kantian: Kantian framework argues that the morality of an action depends on whether it's done out of duty or the right intentions. To define the idea of duty in the context of social media, we can consider the terms and conditions of various platforms. This framework is relevant here because no one is obligated to post positive content, but they are obligated not to post negative content. According to this framework, the consequences are secondary. \n",
    "Utilitarianism: This framework suggests that the option that positively affects the most people is the best choice. This is relevant if we consider that posting only positive content harms a lot of people, which could be viewed as unethical. \n",
    "\n",
    "\n",
    "Would there ever be an instance where seemingly negative content could be beneficial? \n",
    "Kantian: The Kantian framework argues that people should do the right thing even if it might have a negative impact. This is relevant because it goes to show that if someone has a duty to post something and it is not viewed as beneficial, this still might be argued as ethical since it was their duty. Alternatively, their intention may be considered. If what they posted was inherently negative, but their intention was good, this framework would deem the choice as ethical and beneficial. \n",
    "Ethics of Care: This framework focuses on the fact that we should balance our needs and those of others. There may be situations where content that is deemed negative, may be balancing our needs and the needs of others. While controversial, it may still be considered ethical. \n"
   ]
  }
 ],
 "metadata": {
  "kernelspec": {
   "display_name": "Python 3 (ipykernel)",
   "language": "python",
   "name": "python3"
  },
  "language_info": {
   "codemirror_mode": {
    "name": "ipython",
    "version": 3
   },
   "file_extension": ".py",
   "mimetype": "text/x-python",
   "name": "python",
   "nbconvert_exporter": "python",
   "pygments_lexer": "ipython3",
   "version": "3.10.13"
  }
 },
 "nbformat": 4,
 "nbformat_minor": 5
}
