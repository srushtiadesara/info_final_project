{
 "cells": [
  {
   "cell_type": "markdown",
   "id": "485c4462-5cf7-4524-8f57-874e8eb6209d",
   "metadata": {},
   "source": [
    "# Final Project: Positive Path\n",
    "\n",
    "## Reddit PRAW Setup"
   ]
  },
  {
   "cell_type": "code",
   "execution_count": 44,
   "id": "0d45a981-86cd-41f0-bc0a-066afdc985b4",
   "metadata": {
    "tags": []
   },
   "outputs": [],
   "source": [
    "import praw"
   ]
  },
  {
   "cell_type": "markdown",
   "id": "8cdfc113-a6b0-4c6f-a1f1-06a47bb83925",
   "metadata": {},
   "source": [
    "(optional) make a fake praw connection with the fake_praw library\n"
   ]
  },
  {
   "cell_type": "code",
   "execution_count": 45,
   "id": "f5c5eac2-09d3-4244-b4d4-63942fda66ef",
   "metadata": {},
   "outputs": [
    {
     "data": {
      "text/html": [
       "<strong style='color:darkred'>Fake praw is replacing the praw library. Fake praw doesn&#x27;t need real passwords, and prevents you from accessing real reddit</strong>"
      ],
      "text/plain": [
       "<IPython.core.display.HTML object>"
      ]
     },
     "metadata": {},
     "output_type": "display_data"
    }
   ],
   "source": [
    "%run fake_apis/fake_praw.ipynb"
   ]
  },
  {
   "cell_type": "code",
   "execution_count": 46,
   "id": "72567e4d-e517-43f1-a949-49fb29120ddf",
   "metadata": {},
   "outputs": [],
   "source": [
    "%run reddit_keys.py"
   ]
  },
  {
   "cell_type": "code",
   "execution_count": 47,
   "id": "94c2d5da-d971-454a-aebf-3ed64e286b01",
   "metadata": {},
   "outputs": [
    {
     "data": {
      "text/html": [
       "<strong style='color:darkred'>Fake praw is pretending to collect account info to use on reddit</strong>"
      ],
      "text/plain": [
       "<IPython.core.display.HTML object>"
      ]
     },
     "metadata": {},
     "output_type": "display_data"
    }
   ],
   "source": [
    "# Give the praw code your reddit account info so\n",
    "# it can perform reddit actions\n",
    "reddit = praw.Reddit(\n",
    "    username=username, password=password,\n",
    "    client_id=client_id, client_secret=client_secret,\n",
    "    user_agent=\"a custom python script\"\n",
    ")"
   ]
  },
  {
   "cell_type": "markdown",
   "id": "a72f67fc-09df-446f-8956-b1f28fd3d0bd",
   "metadata": {},
   "source": [
    "## Positive Sentiment Analysis\n",
    "### import natural language processing library"
    "### load sentiment analysis library (tailored for social media sentiment analysis)"
    "### initialize analyzer"
   ]
  },
  {
   "cell_type": "code",
   "execution_count": 48,
   "id": "a476b639-df99-4737-83f8-a37fb3654b50",
   "metadata": {
    "tags": []
   },
   "outputs": [
    {
     "name": "stderr",
     "output_type": "stream",
     "text": [
      "[nltk_data] Downloading package vader_lexicon to\n",
      "[nltk_data]     /home/jovyan/nltk_data...\n",
      "[nltk_data]   Package vader_lexicon is already up-to-date!\n"
     ]
    }
   ],
   "source": [
    "import nltk\n",
    "nltk.download([\"vader_lexicon\"])\n",
    "from nltk.sentiment import SentimentIntensityAnalyzer\n",
    "sia = SentimentIntensityAnalyzer()"
   ]
  },
  {
   "cell_type": "markdown",
   "id": "549b8cd4-61a6-42b3-ad32-7dff878ddc9c",
   "metadata": {},
   "source": [
    "### loop through submissions, finding average positive sentiment\n",
    "\n",
    "Go through posts to see "
   ]
  },
  {
   "cell_type": "code",
   "execution_count": 52,
   "id": "ec912f23-54af-44ce-86b7-3f445bad5fdf",
   "metadata": {},
   "outputs": [
    {
     "data": {
      "text/html": [
       "<strong style='color:darkred'>Fake praw is pretending to select the subreddit: cuteanimals</strong>"
      ],
      "text/plain": [
       "<IPython.core.display.HTML object>"
      ]
     },
     "metadata": {},
     "output_type": "display_data"
    },
    {
     "name": "stdout",
     "output_type": "stream",
     "text": [
      "Your positivity score is 0.5093\n",
      "The post 'Look at my cute dog!' is positive.\n",
      "Your positivity score is 0.0\n",
      "The post 'A baby lizard!' is not positive. Please reword it by making sure you  are mindful of your syntax and message.\n",
      "Your positivity score is 0.6239\n",
      "The post 'The cutest bird ever!' is positive.\n"
     ]
    }
   ],
   "source": [
    "num_submissions = 0\n",
    "total_sentiment = 0\n",
    "\n",
    "# Look up the subreddit \"space\", then find the \"hot\" list, getting up to 15 submission\n",
    "submissions = reddit.subreddit(\"cuteanimals\").hot(limit=30)\n",
    "\n",
    "# Turn the submission results into a Python List\n",
    "submissions_list = list(submissions)\n",
    "\n",
    "for submission in submissions_list:\n",
    "    #calculate sentiment\n",
    "    num_submissions += 1\n",
    "    submission_sentiment = sia.polarity_scores(submission.title)['compound']\n",
    "    total_sentiment += submission_sentiment\n",
    "    \n",
    "    print(\"Your positivity score is \" + str(submission_sentiment));\n",
    "    if submission_sentiment > 0:\n",
    "            print(f\"The post '{submission.title}' is positive.\")\n",
    "    else:\n",
    "            print(f\"The post '{submission.title}' is not positive. Please reword it by making sure you are mindful of your syntax and message.\")\n",
    "\n",
    "\n"
   ]
  },
  {
   "cell_type": "code",
   "execution_count": null,
   "id": "ba4793f7-6bdf-4865-9ce8-8fbad0c86b6d",
   "metadata": {},
   "outputs": [],
   "source": []
  }
 ],
 "metadata": {
  "kernelspec": {
   "display_name": "Python 3 (ipykernel)",
   "language": "python",
   "name": "python3"
  },
  "language_info": {
   "codemirror_mode": {
    "name": "ipython",
    "version": 3
   },
   "file_extension": ".py",
   "mimetype": "text/x-python",
   "name": "python",
   "nbconvert_exporter": "python",
   "pygments_lexer": "ipython3",
   "version": "3.10.13"
  }
 },
 "nbformat": 4,
 "nbformat_minor": 5
}
