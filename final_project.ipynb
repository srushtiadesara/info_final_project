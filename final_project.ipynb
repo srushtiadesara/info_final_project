{
 "cells": [
  {
   "cell_type": "markdown",
   "id": "485c4462-5cf7-4524-8f57-874e8eb6209d",
   "metadata": {},
   "source": [
    "# Demo: Sentiment Analysis on Reddit\n",
    "\n",
    "Now let's try using sentiment analysis (and loop variables) on Reddit:\n",
    "\n",
    "We'll start by doing our normal steps to load Reddit PRAW (or fake praw)\n",
    "\n",
    "## Reddit PRAW Setup"
   ]
  },
  {
   "cell_type": "code",
   "execution_count": null,
   "id": "0d45a981-86cd-41f0-bc0a-066afdc985b4",
   "metadata": {
    "tags": []
   },
   "outputs": [],
   "source": [
    "import praw"
   ]
  },
  {
   "cell_type": "markdown",
   "id": "8cdfc113-a6b0-4c6f-a1f1-06a47bb83925",
   "metadata": {},
   "source": [
    "(optional) make a fake praw connection with the fake_praw library\n",
    "\n",
    "For testing purposes, we've added this line of code, which loads a fake version of praw, so it wont actually connect to reddit. __If you want to try to actually connect to reddit, don't run this line of code.__"
   ]
  },
  {
   "cell_type": "code",
   "execution_count": null,
   "id": "f5c5eac2-09d3-4244-b4d4-63942fda66ef",
   "metadata": {},
   "outputs": [],
   "source": [
    "%run fake_apis/fake_praw.ipynb"
   ]
  },
  {
   "cell_type": "code",
   "execution_count": null,
   "id": "72567e4d-e517-43f1-a949-49fb29120ddf",
   "metadata": {},
   "outputs": [],
   "source": [
    "%run reddit_keys.py"
   ]
  },
  {
   "cell_type": "code",
   "execution_count": null,
   "id": "94c2d5da-d971-454a-aebf-3ed64e286b01",
   "metadata": {},
   "outputs": [],
   "source": [
    "# Give the praw code your reddit account info so\n",
    "# it can perform reddit actions\n",
    "reddit = praw.Reddit(\n",
    "    username=username, password=password,\n",
    "    client_id=client_id, client_secret=client_secret,\n",
    "    user_agent=\"a custom python script\"\n",
    ")"
   ]
  },
  {
   "cell_type": "markdown",
   "id": "a72f67fc-09df-446f-8956-b1f28fd3d0bd",
   "metadata": {},
   "source": [
    "## Sentiment Analysis\n",
    "### load sentiment analysis library and make analyzer"
   ]
  },
  {
   "cell_type": "code",
   "execution_count": null,
   "id": "a476b639-df99-4737-83f8-a37fb3654b50",
   "metadata": {
    "tags": []
   },
   "outputs": [],
   "source": [
    "import nltk\n",
    "nltk.download([\"vader_lexicon\"])\n",
    "from nltk.sentiment import SentimentIntensityAnalyzer\n",
    "sia = SentimentIntensityAnalyzer()"
   ]
  },
  {
   "cell_type": "markdown",
   "id": "549b8cd4-61a6-42b3-ad32-7dff878ddc9c",
   "metadata": {},
   "source": [
    "### loop through submissions, finding average sentiment\n",
    "We can now combine our previous examples of looping through reddit submissions with what we just learned of sentiment analysis and looping variables to find the average sentiment of a set of submission titles."
   ]
  },
  {
   "cell_type": "code",
   "execution_count": null,
   "id": "ec912f23-54af-44ce-86b7-3f445bad5fdf",
   "metadata": {},
   "outputs": [],
   "source": [
    "num_submissions = 0\n",
    "total_sentiment = 0\n",
    "\n",
    "# Look up the subreddit \"cuteanimals\", then find the \"hot\" list, getting up to 10 submission\n",
    "submissions = reddit.subreddit(\"cuteanimals\").hot(limit=10)\n",
    "\n",
    "# Turn the submission results into a Python List\n",
    "submissions_list = list(submissions)\n",
    "\n",
    "for submission in submissions_list:\n",
    "    #calculate sentiment\n",
    "    submission_sentiment = sia.polarity_scores(submission.title)[\"compound\"]\n",
    "    num_submissions += 1\n",
    "    total_sentiment += submission_sentiment\n",
    "\n",
    "    print(\"Sentiment: \" + str(submission_sentiment))\n",
    "    print(\"   Submission Title: \" + submission.title)\n",
    "    print()\n",
    "\n",
    "\n",
    "\n",
    "average_sentiment = total_sentiment / num_submissions\n",
    "print(\"Average sentiment was \" + str(average_sentiment))"
   ]
  },
  {
   "cell_type": "markdown",
   "id": "c97763a9-325f-4fd0-8b57-501a068f6335",
   "metadata": {},
   "source": [
    "We can now see the average sentiment of a set of reddit post titles based on our search of a subreddit! \n",
    "\n",
    "If you use your reddit bot keys, you can change the `subreddit` to be whatever one you want and see whether people are posting positively or negatively in it. \n",
    "\n",
    "_note: You can change `limit=10` to go up higher to get more submissions at a time to find the average of_"
   ]
  }
 ],
 "metadata": {
  "kernelspec": {
   "display_name": "Python 3 (ipykernel)",
   "language": "python",
   "name": "python3"
  },
  "language_info": {
   "codemirror_mode": {
    "name": "ipython",
    "version": 3
   },
   "file_extension": ".py",
   "mimetype": "text/x-python",
   "name": "python",
   "nbconvert_exporter": "python",
   "pygments_lexer": "ipython3",
   "version": "3.10.13"
  }
 },
 "nbformat": 4,
 "nbformat_minor": 5
}
